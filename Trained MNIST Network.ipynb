{
 "cells": [
  {
   "cell_type": "code",
   "execution_count": 1,
   "metadata": {},
   "outputs": [
    {
     "name": "stderr",
     "output_type": "stream",
     "text": [
      "Using TensorFlow backend.\n"
     ]
    }
   ],
   "source": [
    "from keras.datasets import mnist,fashion_mnist\n",
    "from keras.utils import to_categorical\n",
    "from keras import datasets\n",
    "from keras.models import Sequential\n",
    "from keras.layers import *\n",
    "from keras.optimizers import SGD\n",
    "from sklearn.metrics import confusion_matrix \n",
    "import matplotlib.pyplot as plt\n",
    "import numpy as np\n"
   ]
  },
  {
   "cell_type": "code",
   "execution_count": 2,
   "metadata": {},
   "outputs": [
    {
     "data": {
      "image/png": "[encoded data removed]",
      "text/plain": [
       "<Figure size 864x720 with 20 Axes>"
      ]
     },
     "metadata": {
      "needs_background": "light"
     },
     "output_type": "display_data"
    }
   ],
   "source": [
    "# load the data \n",
    "(x_train, y_train), (x_test, y_test) = mnist.load_data()\n",
    "\n",
    "# display a few images\n",
    "plt.figure( figsize=(12,10))\n",
    "plt.axis('off')\n",
    "for i in range(20):\n",
    "    plt.subplot(5,4,i+1)\n",
    "    plt.imshow(x_train[i])\n",
    " "
   ]
  },
  {
   "cell_type": "code",
   "execution_count": 3,
   "metadata": {},
   "outputs": [],
   "source": [
    "# reshape the x_train and x_test data\n",
    " \n",
    "x_train = np.reshape(x_train, (x_train.shape[0], 28*28))\n",
    "x_test = np.reshape(x_test, (x_test.shape[0], 28*28))\n",
    "\n",
    "\n",
    "#one hot encoding (data types and list)\n",
    "y_train = to_categorical(y_train)\n",
    "y_test_cats = y_train # keep copy to use later\n",
    "y_test = to_categorical(y_test)\n",
    "\n",
    " "
   ]
  },
  {
   "cell_type": "code",
   "execution_count": 7,
   "metadata": {
    "scrolled": false
   },
   "outputs": [
    {
     "name": "stdout",
     "output_type": "stream",
     "text": [
      "Model: \"sequential_2\"\n",
      "_________________________________________________________________\n",
      "Layer (type)                 Output Shape              Param #   \n",
      "=================================================================\n",
      "dense_4 (Dense)              (None, 80)                62800     \n",
      "_________________________________________________________________\n",
      "dense_5 (Dense)              (None, 30)                2430      \n",
      "_________________________________________________________________\n",
      "dense_6 (Dense)              (None, 10)                310       \n",
      "=================================================================\n",
      "Total params: 65,540\n",
      "Trainable params: 65,540\n",
      "Non-trainable params: 0\n",
      "_________________________________________________________________\n"
     ]
    }
   ],
   "source": [
    "# build a 3 layer neural network (80, 40, 10)\n",
    "# discuss classes, activations, loss functions, optimizers, metrics\n",
    "\n",
    "model = Sequential()\n",
    "model.add(Dense(80, input_shape=(784,), activation='relu'))\n",
    "model.add(Dense(30, activation='relu'))\n",
    "model.add(Dense(10, activation='softmax'))\n",
    "\n",
    "model.summary()\n",
    "model.compile(loss='categorical_crossentropy', optimizer='adam', metrics=['acc'])"
   ]
  },
  {
   "cell_type": "code",
   "execution_count": 8,
   "metadata": {},
   "outputs": [
    {
     "name": "stdout",
     "output_type": "stream",
     "text": [
      "Train on 54000 samples, validate on 6000 samples\n",
      "Epoch 1/10\n",
      "54000/54000 [==============================] - 3s 51us/step - loss: 1.8769 - acc: 0.5324 - val_loss: 0.8778 - val_acc: 0.7128\n",
      "Epoch 2/10\n",
      "54000/54000 [==============================] - 3s 50us/step - loss: 0.6892 - acc: 0.7949 - val_loss: 0.4366 - val_acc: 0.8768\n",
      "Epoch 3/10\n",
      "54000/54000 [==============================] - 3s 50us/step - loss: 0.4204 - acc: 0.8923 - val_loss: 0.3185 - val_acc: 0.9125\n",
      "Epoch 4/10\n",
      "54000/54000 [==============================] - 3s 53us/step - loss: 0.2700 - acc: 0.9318 - val_loss: 0.1901 - val_acc: 0.9547\n",
      "Epoch 5/10\n",
      "54000/54000 [==============================] - 3s 50us/step - loss: 0.2066 - acc: 0.9463 - val_loss: 0.1789 - val_acc: 0.9572\n",
      "Epoch 6/10\n",
      "54000/54000 [==============================] - 3s 49us/step - loss: 0.1715 - acc: 0.9549 - val_loss: 0.1460 - val_acc: 0.9602\n",
      "Epoch 7/10\n",
      "54000/54000 [==============================] - 3s 51us/step - loss: 0.1492 - acc: 0.9596 - val_loss: 0.1914 - val_acc: 0.9558\n",
      "Epoch 8/10\n",
      "54000/54000 [==============================] - 3s 50us/step - loss: 0.1334 - acc: 0.9636 - val_loss: 0.1597 - val_acc: 0.9605\n",
      "Epoch 9/10\n",
      "54000/54000 [==============================] - 3s 55us/step - loss: 0.1255 - acc: 0.9666 - val_loss: 0.1561 - val_acc: 0.9637\n",
      "Epoch 10/10\n",
      "54000/54000 [==============================] - 3s 52us/step - loss: 0.1181 - acc: 0.9685 - val_loss: 0.1531 - val_acc: 0.9700\n"
     ]
    },
    {
     "data": {
      "text/plain": [
       "<keras.callbacks.callbacks.History at 0x1a3e2f4a10>"
      ]
     },
     "execution_count": 8,
     "metadata": {},
     "output_type": "execute_result"
    }
   ],
   "source": [
    "# fit the model, show the progression of training \n",
    "# (batch_size, epochs, validation )\n",
    "model.fit(x_train,y_train, validation_split=0.1, epochs=10)\n",
    " "
   ]
  },
  {
   "cell_type": "code",
   "execution_count": 9,
   "metadata": {},
   "outputs": [
    {
     "name": "stdout",
     "output_type": "stream",
     "text": [
      "10000/10000 [==============================] - 0s 25us/step\n"
     ]
    },
    {
     "data": {
      "text/plain": [
       "[0.17016383290067316, 0.9581000208854675]"
      ]
     },
     "execution_count": 9,
     "metadata": {},
     "output_type": "execute_result"
    }
   ],
   "source": [
    "# evaluate the model with test data\n",
    "model.evaluate(x_test, y_test)"
   ]
  },
  {
   "cell_type": "code",
   "execution_count": 10,
   "metadata": {},
   "outputs": [],
   "source": [
    "# compare ground truth to predictions  using test data\n",
    "y_hat = model.predict(x_test)"
   ]
  },
  {
   "cell_type": "code",
   "execution_count": 19,
   "metadata": {},
   "outputs": [
    {
     "data": {
      "text/plain": [
       "array([[ 974,    0,    2,    0,    0,    1,    2,    0,    1,    0],\n",
       "       [   0, 1115,    4,    2,    0,    1,    2,    1,   10,    0],\n",
       "       [   8,    1,  992,    3,    0,    0,    9,    5,   14,    0],\n",
       "       [   0,    0,   11,  972,    0,   15,    0,    3,    8,    1],\n",
       "       [   2,    1,    0,    0,  911,    0,   16,    0,    8,   44],\n",
       "       [   5,    0,    0,   17,    2,  841,   14,    3,    7,    3],\n",
       "       [  12,    3,    0,    0,    1,    7,  933,    0,    1,    1],\n",
       "       [   1,    2,   13,    3,    0,    0,    1,  995,    4,    9],\n",
       "       [  19,    0,   11,   24,    4,    4,    8,    3,  899,    2],\n",
       "       [   8,    4,    0,   16,    7,    6,    3,    7,    9,  949]])"
      ]
     },
     "execution_count": 19,
     "metadata": {},
     "output_type": "execute_result"
    }
   ],
   "source": [
    "# confusion matrix\n",
    "# use argmax to tally counts of y_test and y_hat (conf_y, conf_y_hat)\n",
    "y_cats = np.argmax(y_hat, axis=1)\n",
    "y_test_cats = np.argmax(y_test, axis=1)\n",
    "confusion_matrix(y_test_cats, y_cats) "
   ]
  },
  {
   "cell_type": "code",
   "execution_count": null,
   "metadata": {},
   "outputs": [],
   "source": []
  }
 ],
 "metadata": {
  "kernelspec": {
   "display_name": "Python 3",
   "language": "python",
   "name": "python3"
  },
  "language_info": {
   "codemirror_mode": {
    "name": "ipython",
    "version": 3
   },
   "file_extension": ".py",
   "mimetype": "text/x-python",
   "name": "python",
   "nbconvert_exporter": "python",
   "pygments_lexer": "ipython3",
   "version": "3.7.5"
  }
 },
 "nbformat": 4,
 "nbformat_minor": 2
}

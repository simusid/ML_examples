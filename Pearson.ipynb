{
 "cells": [
  {
   "cell_type": "code",
   "execution_count": 23,
   "metadata": {},
   "outputs": [],
   "source": [
    "import numpy as np\n",
    " \n",
    "import numba\n",
    "from numba import cuda\n",
    "from scipy.stats import pearsonr\n",
    "from time import time\n",
    "import math  \n",
    " "
   ]
  },
  {
   "cell_type": "code",
   "execution_count": 106,
   "metadata": {
    "scrolled": true
   },
   "outputs": [
    {
     "name": "stdout",
     "output_type": "stream",
     "text": [
      "64.56297898292542\n"
     ]
    }
   ],
   "source": [
    "# playing around with numba for the first time\n",
    "\n",
    "an_array = np.random.random((15000,15000))\n",
    "\n",
    "@cuda.jit\n",
    "def pearson(an_array, out):\n",
    "    x= cuda.threadIdx.x # this row\n",
    "    M = 13000\n",
    "    if (x<M):\n",
    "        data1 = an_array[x]\n",
    "        for index in range(x, 15000): # against every other row\n",
    "            data2 = an_array[index] \n",
    "             \n",
    "            sum1 = 0.\n",
    "            sum2 = 0.\n",
    "            for i in range(M):\n",
    "                sum1 += data1[i]\n",
    "                sum2 += data2[i]\n",
    "            mean1 = sum1 / M\n",
    "            mean2 = sum2 / M\n",
    "\n",
    "            var_sum1 = 0.\n",
    "            var_sum2 = 0.\n",
    "            cross_sum = 0.\n",
    "            for i in range(M):\n",
    "                var_sum1 += (data1[i] - mean1) ** 2\n",
    "                var_sum2 += (data2[i] - mean2) ** 2\n",
    "                cross_sum += (data1[i] * data2[i])\n",
    "\n",
    "            std1 = (var_sum1 / M) ** .5\n",
    "            std2 = (var_sum2 / M) ** .5\n",
    "            cross_mean = cross_sum / M\n",
    "\n",
    "            out[x,index] = (cross_mean - mean1 * mean2) / (std1 * std2)\n",
    "\n",
    "    \n",
    "out=np.zeros((15000,15000)) \n",
    "start = time()\n",
    "pearson[1,100](an_array, out) \n",
    "print(time() - start)"
   ]
  },
  {
   "cell_type": "code",
   "execution_count": null,
   "metadata": {},
   "outputs": [],
   "source": []
  }
 ],
 "metadata": {
  "kernelspec": {
   "display_name": "Python 2",
   "language": "python",
   "name": "python2"
  },
  "language_info": {
   "codemirror_mode": {
    "name": "ipython",
    "version": 3
   },
   "file_extension": ".py",
   "mimetype": "text/x-python",
   "name": "python",
   "nbconvert_exporter": "python",
   "pygments_lexer": "ipython3",
   "version": "3.7.6"
  }
 },
 "nbformat": 4,
 "nbformat_minor": 2
}

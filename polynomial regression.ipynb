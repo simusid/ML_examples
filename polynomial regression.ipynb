{
 "cells": [
  {
   "cell_type": "code",
   "execution_count": 29,
   "metadata": {},
   "outputs": [
    {
     "data": {
      "image/png": "[encoded data removed]",
      "text/plain": [
       "<Figure size 432x288 with 1 Axes>"
      ]
     },
     "metadata": {
      "needs_background": "light"
     },
     "output_type": "display_data"
    }
   ],
   "source": [
    "import numpy as np\n",
    "import matplotlib.pyplot as plt\n",
    "from tensorflow.keras.models import Sequential\n",
    "from sklearn.preprocessing import MinMaxScaler\n",
    "from tensorflow.keras.callbacks import EarlyStopping\n",
    "from tensorflow.keras.layers import *\n",
    "from tensorflow.keras.optimizers import Adam\n",
    "\n",
    "# Define the target polynomial \n",
    "def makeY(x):\n",
    "    return 5*x**3 + 2*x**2 + 6*x +8\n",
    "\n",
    "# this is our input vector, 20k evenly spaced points from -5 to 5\n",
    "x = np.linspace(-5,5,30000)\n",
    "\n",
    "# now generate our output values\n",
    "y=makeY(x)\n",
    "\n",
    "# and here's what it looks like\n",
    "plt.plot(x,y)\n",
    "plt.grid()"
   ]
  },
  {
   "cell_type": "code",
   "execution_count": 30,
   "metadata": {},
   "outputs": [],
   "source": [
    "# Neural network models generally train more easily when they deal with values \n",
    "# between -1 and 1 \n",
    "# Use the MMScaler to squish our data into that range\n",
    "xscaler = MinMaxScaler(feature_range=(-1,1))\n",
    "yscaler = MinMaxScaler(feature_range=(-1,1))\n",
    "\n",
    "x= np.array(x)  # x was a python list and is now a vector\n",
    "# the scaler doesn't want a vector it wants a 2d array \n",
    "# [] is different from [[]]\n",
    "x= np.reshape(x, (x.shape[0],1)) \n",
    "\n",
    "# define the transform (with fit)\n",
    "# use the transform (transform) to return the data\n",
    "x = xscaler.fit_transform(x)  \n",
    " \n",
    "y = np.array(y)\n",
    "y = np.reshape(y, (y.shape[0],1))\n",
    "y = yscaler.fit_transform(y)\n",
    " "
   ]
  },
  {
   "cell_type": "code",
   "execution_count": 31,
   "metadata": {},
   "outputs": [],
   "source": [
    "# implement the required model with one input neuron\n",
    "# one hidden layer with 3 nodes\n",
    "# and one output neuron\n",
    "\n",
    "# tanh is used because we mapped our data from -1 to 1\n",
    "# if we were between 0 and 1, sigmoid would have probably worked better\n",
    "# mse loss is used because this is a regression problem\n",
    "\n",
    "\n",
    "model= Sequential()\n",
    "model.add(Dense(3, input_shape=(1,), activation='tanh'))\n",
    "model.add(Dense(1, activation='tanh'))\n",
    "model.compile(loss='mse', optimizer=Adam(lr=0.0001), metrics=['mse'])"
   ]
  },
  {
   "cell_type": "code",
   "execution_count": null,
   "metadata": {},
   "outputs": [],
   "source": []
  },
  {
   "cell_type": "code",
   "execution_count": 32,
   "metadata": {},
   "outputs": [
    {
     "name": "stdout",
     "output_type": "stream",
     "text": [
      "Train on 27000 samples, validate on 3000 samples\n",
      "Epoch 1/100\n",
      "27000/27000 [==============================] - 2s 56us/sample - loss: 0.3725 - mean_squared_error: 0.3725 - val_loss: 1.5284 - val_mean_squared_error: 1.5284\n",
      "Epoch 2/100\n",
      "27000/27000 [==============================] - 1s 40us/sample - loss: 0.2353 - mean_squared_error: 0.2353 - val_loss: 1.1954 - val_mean_squared_error: 1.1954\n",
      "Epoch 3/100\n",
      "27000/27000 [==============================] - 1s 40us/sample - loss: 0.1361 - mean_squared_error: 0.1361 - val_loss: 0.8018 - val_mean_squared_error: 0.8018\n",
      "Epoch 4/100\n",
      "27000/27000 [==============================] - 1s 42us/sample - loss: 0.0708 - mean_squared_error: 0.0708 - val_loss: 0.5104 - val_mean_squared_error: 0.5104\n",
      "Epoch 5/100\n",
      "27000/27000 [==============================] - 1s 41us/sample - loss: 0.0375 - mean_squared_error: 0.0375 - val_loss: 0.3435 - val_mean_squared_error: 0.3435\n",
      "Epoch 6/100\n",
      "27000/27000 [==============================] - 1s 42us/sample - loss: 0.0247 - mean_squared_error: 0.0247 - val_loss: 0.2601 - val_mean_squared_error: 0.2601\n",
      "Epoch 7/100\n",
      "27000/27000 [==============================] - 1s 45us/sample - loss: 0.0212 - mean_squared_error: 0.0212 - val_loss: 0.2251 - val_mean_squared_error: 0.2251\n",
      "Epoch 8/100\n",
      "27000/27000 [==============================] - 1s 41us/sample - loss: 0.0203 - mean_squared_error: 0.0203 - val_loss: 0.2175 - val_mean_squared_error: 0.2175\n",
      "Epoch 9/100\n",
      "27000/27000 [==============================] - 1s 41us/sample - loss: 0.0198 - mean_squared_error: 0.0198 - val_loss: 0.2165 - val_mean_squared_error: 0.2165\n",
      "Epoch 10/100\n",
      "27000/27000 [==============================] - 2s 74us/sample - loss: 0.0194 - mean_squared_error: 0.0194 - val_loss: 0.2182 - val_mean_squared_error: 0.2182\n",
      "Epoch 11/100\n",
      "27000/27000 [==============================] - 1s 41us/sample - loss: 0.0189 - mean_squared_error: 0.0189 - val_loss: 0.2189 - val_mean_squared_error: 0.2189\n",
      "Epoch 12/100\n",
      "27000/27000 [==============================] - 1s 43us/sample - loss: 0.0185 - mean_squared_error: 0.0185 - val_loss: 0.2163 - val_mean_squared_error: 0.2163\n",
      "Epoch 13/100\n",
      "27000/27000 [==============================] - 1s 44us/sample - loss: 0.0181 - mean_squared_error: 0.0181 - val_loss: 0.2149 - val_mean_squared_error: 0.2149\n",
      "Epoch 14/100\n",
      "27000/27000 [==============================] - 2s 61us/sample - loss: 0.0177 - mean_squared_error: 0.0177 - val_loss: 0.2153 - val_mean_squared_error: 0.2153\n",
      "Epoch 15/100\n",
      "27000/27000 [==============================] - 1s 55us/sample - loss: 0.0174 - mean_squared_error: 0.0174 - val_loss: 0.2155 - val_mean_squared_error: 0.2155\n",
      "Epoch 16/100\n",
      "27000/27000 [==============================] - 1s 45us/sample - loss: 0.0171 - mean_squared_error: 0.0171 - val_loss: 0.2158 - val_mean_squared_error: 0.2158\n",
      "Epoch 17/100\n",
      "27000/27000 [==============================] - 1s 46us/sample - loss: 0.0169 - mean_squared_error: 0.0169 - val_loss: 0.2169 - val_mean_squared_error: 0.2169\n",
      "Epoch 18/100\n",
      "27000/27000 [==============================] - 1s 44us/sample - loss: 0.0166 - mean_squared_error: 0.0166 - val_loss: 0.2141 - val_mean_squared_error: 0.2141\n",
      "Epoch 19/100\n",
      "27000/27000 [==============================] - 1s 44us/sample - loss: 0.0164 - mean_squared_error: 0.0164 - val_loss: 0.2149 - val_mean_squared_error: 0.2149\n",
      "Epoch 20/100\n",
      "27000/27000 [==============================] - 1s 42us/sample - loss: 0.0162 - mean_squared_error: 0.0162 - val_loss: 0.2187 - val_mean_squared_error: 0.2187\n",
      "Epoch 21/100\n",
      "27000/27000 [==============================] - 1s 45us/sample - loss: 0.0160 - mean_squared_error: 0.0160 - val_loss: 0.2149 - val_mean_squared_error: 0.2149\n",
      "Epoch 22/100\n",
      "27000/27000 [==============================] - 1s 43us/sample - loss: 0.0158 - mean_squared_error: 0.0158 - val_loss: 0.2144 - val_mean_squared_error: 0.2144\n",
      "Epoch 23/100\n",
      "27000/27000 [==============================] - 1s 46us/sample - loss: 0.0156 - mean_squared_error: 0.0156 - val_loss: 0.2149 - val_mean_squared_error: 0.2149\n"
     ]
    },
    {
     "data": {
      "text/plain": [
       "<tensorflow.python.keras.callbacks.History at 0x7f990a617350>"
      ]
     },
     "execution_count": 32,
     "metadata": {},
     "output_type": "execute_result"
    }
   ],
   "source": [
    "# set a large epoch count and use EarlyStopping to bail out when \n",
    "# we start to overfit\n",
    "\n",
    "model.fit(x,y, epochs=100, validation_split=.1, callbacks=[EarlyStopping(patience=5)])"
   ]
  },
  {
   "cell_type": "code",
   "execution_count": 33,
   "metadata": {},
   "outputs": [
    {
     "name": "stdout",
     "output_type": "stream",
     "text": [
      "actual scaled:  [[0.2192674]] scaled predicted: [[0.2091517]]\n",
      "actual unscaled: 201.62014812521656 unscaled predicted: [[194.99437]]\n"
     ]
    }
   ],
   "source": [
    "# pick a new value of x within the training range\n",
    "# pass the value through our polynomial\n",
    "unscaled_x = np.pi\n",
    "unscaled_y = makeY(unscaled_x)\n",
    "\n",
    "# the model works with scaled inputs and produces scaled outputs\n",
    "scaled_x = xscaler.transform([[unscaled_x]])\n",
    "scaled_y = yscaler.transform([[unscaled_y]])\n",
    "scaled_y_hat = model.predict(scaled_x)\n",
    " \n",
    "\n",
    "print(\"actual scaled:  {} scaled predicted: {}\".format(scaled_y, scaled_y_hat))\n",
    "print(\"actual unscaled: {} unscaled predicted: {}\".format(unscaled_y, yscaler.inverse_transform(scaled_y_hat)))\n"
   ]
  },
  {
   "cell_type": "code",
   "execution_count": null,
   "metadata": {},
   "outputs": [],
   "source": []
  }
 ],
 "metadata": {
  "kernelspec": {
   "display_name": "Python 3",
   "language": "python",
   "name": "python3"
  },
  "language_info": {
   "codemirror_mode": {
    "name": "ipython",
    "version": 3
   },
   "file_extension": ".py",
   "mimetype": "text/x-python",
   "name": "python",
   "nbconvert_exporter": "python",
   "pygments_lexer": "ipython3",
   "version": "3.7.9"
  }
 },
 "nbformat": 4,
 "nbformat_minor": 4
}

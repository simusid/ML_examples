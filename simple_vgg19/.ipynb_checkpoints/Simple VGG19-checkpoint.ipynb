{
 "cells": [
  {
   "cell_type": "markdown",
   "metadata": {},
   "source": [
    "# Loading a Pretrained Model\n",
    "\n",
    "Demonstrate how to load a model for immediate use or for transfer learning\n",
    "\n",
    "Note the custom preprocessing"
   ]
  },
  {
   "cell_type": "code",
   "execution_count": null,
   "metadata": {},
   "outputs": [],
   "source": [
    "from keras.applications import VGG19\n",
    "from keras.applications.vgg19 import decode_predictions, preprocess_input\n",
    "from PIL import Image\n",
    "import matplotlib.pyplot as plt\n",
    "import numpy as np\n",
    "\n"
   ]
  },
  {
   "cell_type": "code",
   "execution_count": null,
   "metadata": {},
   "outputs": [],
   "source": [
    "img = Image.open(\"alfred.jpg\").resize((224,224))\n",
    "img = img.rotate(-90)\n",
    " \n",
    "x=preprocess_input(np.array(img))\n",
    "\n",
    "x=np.reshape(x, (1,224,224,3))\n",
    "plt.imshow(img)\n",
    "plt.title(\"raw and resized image\")\n",
    "plt.figure()\n",
    "plt.title(\"Preprocessed Image\")\n",
    "plt.imshow(x[0])"
   ]
  },
  {
   "cell_type": "code",
   "execution_count": null,
   "metadata": {},
   "outputs": [],
   "source": [
    "vgg19=VGG19()\n"
   ]
  },
  {
   "cell_type": "code",
   "execution_count": null,
   "metadata": {},
   "outputs": [],
   "source": [
    "vgg19.compile(loss='categorical_crossentropy', optimizer='adam')\n",
    "y = vgg19.predict(x)\n",
    "decode_predictions(y)\n"
   ]
  },
  {
   "cell_type": "code",
   "execution_count": null,
   "metadata": {},
   "outputs": [],
   "source": []
  }
 ],
 "metadata": {
  "kernelspec": {
   "display_name": "Python 3",
   "language": "python",
   "name": "python3"
  },
  "language_info": {
   "codemirror_mode": {
    "name": "ipython",
    "version": 3
   },
   "file_extension": ".py",
   "mimetype": "text/x-python",
   "name": "python",
   "nbconvert_exporter": "python",
   "pygments_lexer": "ipython3",
   "version": "3.7.6"
  }
 },
 "nbformat": 4,
 "nbformat_minor": 4
}

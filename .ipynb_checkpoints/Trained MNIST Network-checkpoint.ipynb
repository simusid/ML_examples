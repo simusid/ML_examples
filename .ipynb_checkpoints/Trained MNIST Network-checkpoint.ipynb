{
 "cells": [
  {
   "cell_type": "code",
   "execution_count": 1,
   "metadata": {},
   "outputs": [
    {
     "name": "stderr",
     "output_type": "stream",
     "text": [
      "Using TensorFlow backend.\n"
     ]
    }
   ],
   "source": [
    "import os\n",
    "os.environ[\"CUDA_VISIBLE_DEVICES\"] = \"\"\n",
    "\n",
    "\n",
    "from keras.datasets import mnist,fashion_mnist\n",
    "from keras.utils import to_categorical\n",
    "from keras import datasets\n",
    "from keras.models import Sequential\n",
    "from keras.layers import *\n",
    "from keras.optimizers import SGD\n",
    "from sklearn.metrics import confusion_matrix \n",
    "import matplotlib.pyplot as plt\n",
    "import numpy as np\n"
   ]
  },
  {
   "cell_type": "code",
   "execution_count": null,
   "metadata": {},
   "outputs": [],
   "source": [
    "# load the data \n",
    "(x_train, y_train), (x_test, y_test) = mnist.load_data()\n",
    "\n",
    "# display a few images\n",
    "plt.figure( figsize=(12,10))\n",
    "plt.axis('off')\n",
    "for i in range(20):\n",
    "    plt.subplot(5,4,i+1)\n",
    "    plt.imshow(x_train[i])\n",
    " "
   ]
  },
  {
   "cell_type": "code",
   "execution_count": null,
   "metadata": {},
   "outputs": [],
   "source": [
    "# reshape the x_train and x_test data\n",
    " \n",
    "x_train = np.reshape(x_train, (x_train.shape[0], 28*28))\n",
    "x_test = np.reshape(x_test, (x_test.shape[0], 28*28))\n",
    "\n",
    "\n",
    "#one hot encoding (data types and list)\n",
    "y_train = to_categorical(y_train)\n",
    "y_test_cats = y_train # keep copy to use later\n",
    "y_test = to_categorical(y_test)\n",
    "\n",
    " "
   ]
  },
  {
   "cell_type": "code",
   "execution_count": null,
   "metadata": {
    "scrolled": false
   },
   "outputs": [],
   "source": [
    "# build a 3 layer neural network (80, 40, 10)\n",
    "# discuss classes, activations, loss functions, optimizers, metrics\n",
    "\n",
    "model = Sequential()\n",
    "model.add(Dense(80, input_shape=(784,), activation='relu'))\n",
    "model.add(Dense(30, activation='relu'))\n",
    "model.add(Dense(10, activation='softmax'))\n",
    "\n",
    "model.summary()\n",
    "model.compile(loss='categorical_crossentropy', optimizer='adam', metrics=['acc'])"
   ]
  },
  {
   "cell_type": "code",
   "execution_count": null,
   "metadata": {},
   "outputs": [],
   "source": [
    "# fit the model, show the progression of training \n",
    "# (batch_size, epochs, validation )\n",
    "model.fit(x_train,y_train, validation_split=0.1, epochs=10)\n",
    " "
   ]
  },
  {
   "cell_type": "code",
   "execution_count": null,
   "metadata": {},
   "outputs": [],
   "source": [
    "# evaluate the model with test data\n",
    "model.evaluate(x_test, y_test)"
   ]
  },
  {
   "cell_type": "code",
   "execution_count": null,
   "metadata": {},
   "outputs": [],
   "source": [
    "# compare ground truth to predictions  using test data\n",
    "y_hat = model.predict(x_test)"
   ]
  },
  {
   "cell_type": "code",
   "execution_count": null,
   "metadata": {},
   "outputs": [],
   "source": [
    "# confusion matrix\n",
    "# use argmax to tally counts of y_test and y_hat (conf_y, conf_y_hat)\n",
    "y_cats = np.argmax(y_hat, axis=1)\n",
    "y_test_cats = np.argmax(y_test, axis=1)\n",
    "confusion_matrix(y_test_cats, y_cats) "
   ]
  },
  {
   "cell_type": "code",
   "execution_count": null,
   "metadata": {},
   "outputs": [],
   "source": []
  }
 ],
 "metadata": {
  "kernelspec": {
   "display_name": "Python 3",
   "language": "python",
   "name": "python3"
  },
  "language_info": {
   "codemirror_mode": {
    "name": "ipython",
    "version": 3
   },
   "file_extension": ".py",
   "mimetype": "text/x-python",
   "name": "python",
   "nbconvert_exporter": "python",
   "pygments_lexer": "ipython3",
   "version": "3.7.7"
  }
 },
 "nbformat": 4,
 "nbformat_minor": 2
}
